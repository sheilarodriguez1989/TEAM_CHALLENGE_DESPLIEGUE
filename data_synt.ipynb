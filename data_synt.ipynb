{
 "cells": [
  {
   "cell_type": "code",
   "execution_count": 1,
   "id": "b6f06208",
   "metadata": {},
   "outputs": [],
   "source": [
    "import pandas as pd\n",
    "import numpy as np\n",
    "\n",
    "def generate_ads_data(n_rows, seed=42):\n",
    "    np.random.seed(seed)\n",
    "    tv = np.random.uniform(5, 300, n_rows)\n",
    "    radio = np.random.uniform(0, 50, n_rows)\n",
    "    newspaper = np.random.uniform(0, 100, n_rows)\n",
    "\n",
    "    # Simulación de ventas con ruido\n",
    "    sales = 5000 + 45 * tv + 30 * radio + 5 * newspaper + np.random.normal(0, 1000, n_rows)\n",
    "\n",
    "    df = pd.DataFrame({\n",
    "        'tv': tv.round(1),\n",
    "        'radio': radio.round(1),\n",
    "        'newspaper': newspaper.round(1),\n",
    "        'sales': sales.round(0)\n",
    "    })\n",
    "    return df\n",
    "\n",
    "# Crear datasets\n",
    "df_original = generate_ads_data(200)\n",
    "df_new = generate_ads_data(100, seed=99)\n",
    "\n",
    "# Guardar como CSV\n",
    "df_original.to_csv('data/Ads_CTR_Optimization_Dataset.csv', index=False)\n",
    "df_new.to_csv('data/Ads_CTR_Optimization_Dataset_new.csv', index=False)"
   ]
  }
 ],
 "metadata": {
  "kernelspec": {
   "display_name": "Python 3",
   "language": "python",
   "name": "python3"
  },
  "language_info": {
   "codemirror_mode": {
    "name": "ipython",
    "version": 3
   },
   "file_extension": ".py",
   "mimetype": "text/x-python",
   "name": "python",
   "nbconvert_exporter": "python",
   "pygments_lexer": "ipython3",
   "version": "3.12.9"
  }
 },
 "nbformat": 4,
 "nbformat_minor": 5
}
